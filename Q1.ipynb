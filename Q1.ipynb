{
 "cells": [
  {
   "cell_type": "code",
   "execution_count": null,
   "metadata": {},
   "outputs": [],
   "source": [
    "import pandas as pd\n",
    "\n",
    "# 读取CSV文件\n",
    "csv_file = './A.csv'  # 替换为您的CSV文件路径\n",
    "data = pd.read_csv(csv_file, encoding='ISO-8859-1')\n",
    "print(data)\n",
    "# 按国家进行分类汇总统计\n",
    "grouped_by_country = data.groupby('出发国家缩写').sum()\n",
    "\n",
    "# 找出累计旅游总人数最高的国家\n",
    "most_total_tourists = grouped_by_country['国际旅游人数'].idxmax()\n",
    "total_tourists_count = grouped_by_country['国际旅游人数'].max()\n",
    "\n",
    "# 找出旅游出发人数最多的国家\n",
    "most_departure_tourists = data.groupby('出发国家缩写')['国际旅游人数'].sum().idxmax()\n",
    "departure_tourists_count = data.groupby('出发国家缩写')['国际旅游人数'].sum().max()\n",
    "\n",
    "# 找出旅游到达人数最多的国家\n",
    "most_arrival_tourists = data.groupby('到达国家缩写')['国际旅游人数'].sum().idxmax()\n",
    "arrival_tourists_count = data.groupby('到达国家缩写')['国际旅游人数'].sum().max()\n",
    "\n",
    "print(f\"累计旅游总人数最高的国家: {most_total_tourists}，人数：{total_tourists_count}\")\n",
    "print(f\"旅游出发人数最多的国家: {most_departure_tourists}，人数：{departure_tourists_count}\")\n",
    "print(f\"旅游到达人数最多的国家: {most_arrival_tourists}，人数：{arrival_tourists_count}\")\n"
   ]
  }
 ],
 "metadata": {
  "kernelspec": {
   "display_name": "base",
   "language": "python",
   "name": "python3"
  },
  "language_info": {
   "name": "python",
   "version": "3.11.3"
  },
  "orig_nbformat": 4
 },
 "nbformat": 4,
 "nbformat_minor": 2
}
