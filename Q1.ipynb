{
 "cells": [
  {
   "cell_type": "code",
   "execution_count": 6,
   "metadata": {},
   "outputs": [
    {
     "name": "stdout",
     "output_type": "stream",
     "text": [
      "<class 'pandas.core.series.Series'>\n",
      "旅游出发人数最多的国家: USA，人数：392943200\n",
      "旅游到达人数最多的国家: GAB，人数：55671060\n"
     ]
    }
   ],
   "source": [
    "import pandas as pd\n",
    "\n",
    "# 读取CSV文件，使用GBK编码\n",
    "csv_file = './data/A.csv'  # 替换为您的CSV文件路径\n",
    "data = pd.read_csv(csv_file, encoding='GBK')\n",
    "\n",
    "# 按国家进行分类汇总统计\n",
    "grouped_by_country = data.groupby('旅游出发国家')['国际旅游人数'].sum()\n",
    "grouped_by_country_departure = data.groupby('出发国家缩写')['国际旅游人数'].sum()\n",
    "grouped_by_country_arrival = data.groupby('到达国家缩写')['国际旅游人数'].sum()\n",
    "\n",
    "# 找出累计旅游总人数最高的国家\n",
    "most_total_tourists_departure = grouped_by_country_departure.idxmax()\n",
    "total_tourists_count_departure = grouped_by_country_departure.max()\n",
    "\n",
    "most_total_tourists_arrival = grouped_by_country_arrival.idxmax()\n",
    "total_tourists_count_arrival = grouped_by_country_arrival.max()\n",
    "\n",
    "# 输出结果\n",
    "print(grouped_by_country)\n",
    "print(f\"旅游出发人数最多的国家: {most_total_tourists_departure}，人数：{total_tourists_count_departure}\")\n",
    "print(f\"旅游到达人数最多的国家: {most_total_tourists_arrival}，人数：{total_tourists_count_arrival}\")\n"
   ]
  }
 ],
 "metadata": {
  "kernelspec": {
   "display_name": "base",
   "language": "python",
   "name": "python3"
  },
  "language_info": {
   "codemirror_mode": {
    "name": "ipython",
    "version": 3
   },
   "file_extension": ".py",
   "mimetype": "text/x-python",
   "name": "python",
   "nbconvert_exporter": "python",
   "pygments_lexer": "ipython3",
   "version": "3.6.5"
  },
  "orig_nbformat": 4
 },
 "nbformat": 4,
 "nbformat_minor": 2
}
